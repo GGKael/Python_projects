{
  "nbformat": 4,
  "nbformat_minor": 0,
  "metadata": {
    "colab": {
      "name": "Untitled1.ipynb",
      "provenance": [],
      "authorship_tag": "ABX9TyN5G76QCJeU8GiRzEQj+DYq",
      "include_colab_link": true
    },
    "kernelspec": {
      "name": "python3",
      "display_name": "Python 3"
    }
  },
  "cells": [
    {
      "cell_type": "markdown",
      "metadata": {
        "id": "view-in-github",
        "colab_type": "text"
      },
      "source": [
        "<a href=\"https://colab.research.google.com/github/VivekChowdhury23/Python_projects/blob/main/ATM_Machine.ipynb\" target=\"_parent\"><img src=\"https://colab.research.google.com/assets/colab-badge.svg\" alt=\"Open In Colab\"/></a>"
      ]
    },
    {
      "cell_type": "code",
      "metadata": {
        "id": "lQLaq08tEwrt"
      },
      "source": [
        "# ATM Machine\r\n",
        "pin_dir = {'U1':1234, 'U2':3211, 'U3':2234, 'U4':1334}\r\n",
        "\r\n",
        "print(\"Insert Card\")\r\n",
        "#Assume, the card recognizes the user..\r\n",
        "user = \"U1\"\r\n",
        "attempts = 3\r\n",
        "balance = 180000\r\n",
        "\r\n",
        "def withdraw():\r\n",
        "  withdrw = int(input(\"Enter the amount you wish to withdraw: \"))\r\n",
        "  if withdrw > balance:\r\n",
        "    return print(\"Insufficient Balance.\")\r\n",
        "  elif withdrw <= balance:\r\n",
        "    remaining = balance - withdrw\r\n",
        "    return print(\"Available Balance: \" + str(remaining))\r\n",
        "    \r\n",
        "\r\n",
        "\r\n",
        "def chng():\r\n",
        "  new_pin = int(input(\"Enter your new PIN: \"))\r\n",
        "  if len(str(new_pin)) > 4 or len(str(new_pin)) < 4:\r\n",
        "    return print(\"Check digits and Try again.\")\r\n",
        "  else:\r\n",
        "    pin_dir['U1'] = new_pin\r\n",
        "    return print(\"Your PIN has been updated\")\r\n",
        "\r\n",
        "\r\n",
        "for i in range(3,0,-1):\r\n",
        "  pin = int(input(\"Hello U1, please enter your 4 digit PIN: \"))\r\n",
        "\r\n",
        "  if user in pin_dir:\r\n",
        "    if pin == pin_dir[user]:\r\n",
        "      print(\"What would you like to do?\")\r\n",
        "      print(\"Press 1 to Withdraw\")\r\n",
        "      print(\"Press 2 to Check balance\")\r\n",
        "      print(\"Press 3 to Change PIN\")\r\n",
        "      print(\"Press 4 to Cancel/Exit\")\r\n",
        "      action = int(input())\r\n",
        "      if action == 1:\r\n",
        "        withdraw()\r\n",
        "      elif action == 2:\r\n",
        "        print(\"Available Balance: \" + str(remaining))\r\n",
        "      elif action == 3:\r\n",
        "        chng()\r\n",
        "      elif action == 4:\r\n",
        "        break\r\n",
        "      else:\r\n",
        "        print(\"Please try again.\")\r\n",
        "        break\r\n",
        "\r\n",
        "    elif pin != pin_dir[user] and attempts > 0:\r\n",
        "      if attempts > 0:\r\n",
        "        attempts = attempts - 1\r\n",
        "        if attempts > 0:\r\n",
        "          print(\"Please try again, you have \" + str(attempts) + \" attempts remaining.\")\r\n",
        "        if attempts == 0:\r\n",
        "          print(\"Your card has been blocked. Please contact customer support.\")"
      ],
      "execution_count": null,
      "outputs": []
    }
  ]
}